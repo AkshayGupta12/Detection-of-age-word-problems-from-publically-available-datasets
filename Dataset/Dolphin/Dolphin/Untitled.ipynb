{
 "cells": [
  {
   "cell_type": "code",
   "execution_count": 1,
   "metadata": {},
   "outputs": [],
   "source": [
    "import json"
   ]
  },
  {
   "cell_type": "code",
   "execution_count": 2,
   "metadata": {},
   "outputs": [
    {
     "ename": "NameError",
     "evalue": "name 'dev_cleaned' is not defined",
     "output_type": "error",
     "traceback": [
      "\u001b[1;31m---------------------------------------------------------------------------\u001b[0m",
      "\u001b[1;31mNameError\u001b[0m                                 Traceback (most recent call last)",
      "\u001b[1;32m<ipython-input-2-09a2a677b2a7>\u001b[0m in \u001b[0;36m<module>\u001b[1;34m\u001b[0m\n\u001b[1;32m----> 1\u001b[1;33m \u001b[0mdolphin\u001b[0m\u001b[1;33m=\u001b[0m\u001b[0mjson\u001b[0m\u001b[1;33m.\u001b[0m\u001b[0mload\u001b[0m\u001b[1;33m(\u001b[0m\u001b[0mdev_cleaned\u001b[0m\u001b[1;33m)\u001b[0m\u001b[1;33m\u001b[0m\u001b[1;33m\u001b[0m\u001b[0m\n\u001b[0m",
      "\u001b[1;31mNameError\u001b[0m: name 'dev_cleaned' is not defined"
     ]
    }
   ],
   "source": [
    "dolphin=json.load(dev_cleaned)"
   ]
  },
  {
   "cell_type": "code",
   "execution_count": 3,
   "metadata": {},
   "outputs": [],
   "source": [
    "with open('dev_cleaned.json',encoding='UTF8') as f:\n",
    "  dolphin = json.load(f)"
   ]
  },
  {
   "cell_type": "code",
   "execution_count": 26,
   "metadata": {},
   "outputs": [
    {
     "name": "stdout",
     "output_type": "stream",
     "text": [
      "yahoo.answers.20071107053721AA1vOIk\n",
      "yahoo.answers.20081202105058AAQyRC2\n",
      "yahoo.answers.20090325064204AAp5fAr\n",
      "yahoo.answers.20140124045007AAvnajy\n",
      "yahoo.answers.20150520085552AA4Vxjw\n",
      "yahoo.answers.20071008151720AAHRqa1\n",
      "yahoo.answers.20080917120121AAoowuu\n",
      "yahoo.answers.20080122095047AAIC91R\n",
      "yahoo.answers.20080628230814AApYbWL\n",
      "3590\n"
     ]
    }
   ],
   "source": [
    "import re\n",
    "count = 0\n",
    "fw = open(\"dolphinText.txt\",'w',encoding='utf8')\n",
    "for val in dolphin:\n",
    "    text = val['text']\n",
    "    g = re.match(\n",
    "        r'(.*?|\\s*?)\\s*?(\\\")?/>', text)\n",
    "    if g:\n",
    "        if g[1]:\n",
    "            fw.write(g[1].replace(\"\\r\",\" \")+\"\\n\")\n",
    "            count +=1\n",
    "        else:\n",
    "            print(val['id'])\n",
    "print(count)\n",
    "\n",
    "\n",
    "\n",
    "\n"
   ]
  },
  {
   "cell_type": "code",
   "execution_count": null,
   "metadata": {},
   "outputs": [],
   "source": []
  }
 ],
 "metadata": {
  "interpreter": {
   "hash": "a8f61be024eba58adef938c9aa1e29e02cb3dece83a5348b1a2dafd16a070453"
  },
  "kernelspec": {
   "display_name": "Python 3.8.8 64-bit ('base': conda)",
   "name": "python3"
  },
  "language_info": {
   "codemirror_mode": {
    "name": "ipython",
    "version": 3
   },
   "file_extension": ".py",
   "mimetype": "text/x-python",
   "name": "python",
   "nbconvert_exporter": "python",
   "pygments_lexer": "ipython3",
   "version": "3.8.8"
  }
 },
 "nbformat": 4,
 "nbformat_minor": 2
}
